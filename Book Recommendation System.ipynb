{
 "cells": [
  {
   "cell_type": "code",
   "execution_count": 9,
   "id": "afb86603-e411-4db1-ac00-d82230e8256a",
   "metadata": {},
   "outputs": [],
   "source": [
    "import numpy as np\n",
    "import pandas as pd"
   ]
  },
  {
   "cell_type": "code",
   "execution_count": 10,
   "id": "dab38cf5-786b-4ac7-a1ec-bc9567c8551b",
   "metadata": {},
   "outputs": [],
   "source": [
    "books=pd.read_csv('data.csv')"
   ]
  },
  {
   "cell_type": "code",
   "execution_count": 11,
   "id": "53869b60-eeb5-4c17-8bdf-265ea378c2e7",
   "metadata": {},
   "outputs": [
    {
     "data": {
      "text/html": [
       "<div>\n",
       "<style scoped>\n",
       "    .dataframe tbody tr th:only-of-type {\n",
       "        vertical-align: middle;\n",
       "    }\n",
       "\n",
       "    .dataframe tbody tr th {\n",
       "        vertical-align: top;\n",
       "    }\n",
       "\n",
       "    .dataframe thead th {\n",
       "        text-align: right;\n",
       "    }\n",
       "</style>\n",
       "<table border=\"1\" class=\"dataframe\">\n",
       "  <thead>\n",
       "    <tr style=\"text-align: right;\">\n",
       "      <th></th>\n",
       "      <th>isbn13</th>\n",
       "      <th>isbn10</th>\n",
       "      <th>title</th>\n",
       "      <th>subtitle</th>\n",
       "      <th>authors</th>\n",
       "      <th>categories</th>\n",
       "      <th>thumbnail</th>\n",
       "      <th>description</th>\n",
       "      <th>published_year</th>\n",
       "      <th>average_rating</th>\n",
       "      <th>num_pages</th>\n",
       "      <th>ratings_count</th>\n",
       "    </tr>\n",
       "  </thead>\n",
       "  <tbody>\n",
       "    <tr>\n",
       "      <th>0</th>\n",
       "      <td>9780002005883</td>\n",
       "      <td>0002005883</td>\n",
       "      <td>Gilead</td>\n",
       "      <td>NaN</td>\n",
       "      <td>Marilynne Robinson</td>\n",
       "      <td>Fiction</td>\n",
       "      <td>http://books.google.com/books/content?id=KQZCP...</td>\n",
       "      <td>A NOVEL THAT READERS and critics have been eag...</td>\n",
       "      <td>2004.0</td>\n",
       "      <td>3.85</td>\n",
       "      <td>247.0</td>\n",
       "      <td>361.0</td>\n",
       "    </tr>\n",
       "    <tr>\n",
       "      <th>1</th>\n",
       "      <td>9780002261982</td>\n",
       "      <td>0002261987</td>\n",
       "      <td>Spider's Web</td>\n",
       "      <td>A Novel</td>\n",
       "      <td>Charles Osborne;Agatha Christie</td>\n",
       "      <td>Detective and mystery stories</td>\n",
       "      <td>http://books.google.com/books/content?id=gA5GP...</td>\n",
       "      <td>A new 'Christie for Christmas' -- a full-lengt...</td>\n",
       "      <td>2000.0</td>\n",
       "      <td>3.83</td>\n",
       "      <td>241.0</td>\n",
       "      <td>5164.0</td>\n",
       "    </tr>\n",
       "  </tbody>\n",
       "</table>\n",
       "</div>"
      ],
      "text/plain": [
       "          isbn13      isbn10         title subtitle  \\\n",
       "0  9780002005883  0002005883        Gilead      NaN   \n",
       "1  9780002261982  0002261987  Spider's Web  A Novel   \n",
       "\n",
       "                           authors                     categories  \\\n",
       "0               Marilynne Robinson                        Fiction   \n",
       "1  Charles Osborne;Agatha Christie  Detective and mystery stories   \n",
       "\n",
       "                                           thumbnail  \\\n",
       "0  http://books.google.com/books/content?id=KQZCP...   \n",
       "1  http://books.google.com/books/content?id=gA5GP...   \n",
       "\n",
       "                                         description  published_year  \\\n",
       "0  A NOVEL THAT READERS and critics have been eag...          2004.0   \n",
       "1  A new 'Christie for Christmas' -- a full-lengt...          2000.0   \n",
       "\n",
       "   average_rating  num_pages  ratings_count  \n",
       "0            3.85      247.0          361.0  \n",
       "1            3.83      241.0         5164.0  "
      ]
     },
     "execution_count": 11,
     "metadata": {},
     "output_type": "execute_result"
    }
   ],
   "source": [
    "books.head(2)"
   ]
  },
  {
   "cell_type": "code",
   "execution_count": 12,
   "id": "2898f093-8d0e-4247-aadd-7aad2a72231f",
   "metadata": {},
   "outputs": [
    {
     "data": {
      "text/plain": [
       "(6810, 12)"
      ]
     },
     "execution_count": 12,
     "metadata": {},
     "output_type": "execute_result"
    }
   ],
   "source": [
    "books.shape"
   ]
  },
  {
   "cell_type": "code",
   "execution_count": 13,
   "id": "3c212281-9462-422a-a6fb-e3510c605ed7",
   "metadata": {},
   "outputs": [],
   "source": [
    "books=books[['isbn13','title','subtitle','authors','categories','description']]"
   ]
  },
  {
   "cell_type": "code",
   "execution_count": 14,
   "id": "52f4147a-b644-4eab-9f06-9d2d8cec8fc6",
   "metadata": {},
   "outputs": [
    {
     "data": {
      "text/html": [
       "<div>\n",
       "<style scoped>\n",
       "    .dataframe tbody tr th:only-of-type {\n",
       "        vertical-align: middle;\n",
       "    }\n",
       "\n",
       "    .dataframe tbody tr th {\n",
       "        vertical-align: top;\n",
       "    }\n",
       "\n",
       "    .dataframe thead th {\n",
       "        text-align: right;\n",
       "    }\n",
       "</style>\n",
       "<table border=\"1\" class=\"dataframe\">\n",
       "  <thead>\n",
       "    <tr style=\"text-align: right;\">\n",
       "      <th></th>\n",
       "      <th>isbn13</th>\n",
       "      <th>title</th>\n",
       "      <th>subtitle</th>\n",
       "      <th>authors</th>\n",
       "      <th>categories</th>\n",
       "      <th>description</th>\n",
       "    </tr>\n",
       "  </thead>\n",
       "  <tbody>\n",
       "    <tr>\n",
       "      <th>0</th>\n",
       "      <td>9780002005883</td>\n",
       "      <td>Gilead</td>\n",
       "      <td>NaN</td>\n",
       "      <td>Marilynne Robinson</td>\n",
       "      <td>Fiction</td>\n",
       "      <td>A NOVEL THAT READERS and critics have been eag...</td>\n",
       "    </tr>\n",
       "  </tbody>\n",
       "</table>\n",
       "</div>"
      ],
      "text/plain": [
       "          isbn13   title subtitle             authors categories  \\\n",
       "0  9780002005883  Gilead      NaN  Marilynne Robinson    Fiction   \n",
       "\n",
       "                                         description  \n",
       "0  A NOVEL THAT READERS and critics have been eag...  "
      ]
     },
     "execution_count": 14,
     "metadata": {},
     "output_type": "execute_result"
    }
   ],
   "source": [
    "books.head(1)"
   ]
  },
  {
   "cell_type": "markdown",
   "id": "c427a403-b1d9-4022-8d96-ad4f77dd65fe",
   "metadata": {},
   "source": [
    "<h2 style='color:#FF0D86'>CHECKING FOR NULL VALUES</h2>"
   ]
  },
  {
   "cell_type": "code",
   "execution_count": 15,
   "id": "0433cd7f-238e-4063-8ac2-13c6ff7e0273",
   "metadata": {},
   "outputs": [
    {
     "data": {
      "text/plain": [
       "isbn13            0\n",
       "title             0\n",
       "subtitle       4429\n",
       "authors          72\n",
       "categories       99\n",
       "description     262\n",
       "dtype: int64"
      ]
     },
     "execution_count": 15,
     "metadata": {},
     "output_type": "execute_result"
    }
   ],
   "source": [
    "books.isnull().sum()"
   ]
  },
  {
   "cell_type": "markdown",
   "id": "d76c0a93-9f04-4be4-8e7f-af245c72ed53",
   "metadata": {},
   "source": [
    "<h5 style='color:red'>DROPPING THE COLUMN: 'subtitle'</h5>"
   ]
  },
  {
   "cell_type": "code",
   "execution_count": 16,
   "id": "e51051ac-cb04-40c9-bee0-aae22a7956ff",
   "metadata": {},
   "outputs": [],
   "source": [
    "books.drop('subtitle',axis=1,inplace=True)"
   ]
  },
  {
   "cell_type": "markdown",
   "id": "acb50c66-c5ca-43a2-b8d7-3bf650a180cc",
   "metadata": {},
   "source": [
    "<h5 style='color:red'>FILLING MISSING VALUES FOR 'authors'</h5>"
   ]
  },
  {
   "cell_type": "code",
   "execution_count": 17,
   "id": "4b205962-0913-4c5f-80c8-abf527e12d19",
   "metadata": {},
   "outputs": [
    {
     "name": "stderr",
     "output_type": "stream",
     "text": [
      "C:\\Users\\HP\\AppData\\Local\\Temp\\ipykernel_4460\\2138305395.py:1: FutureWarning: A value is trying to be set on a copy of a DataFrame or Series through chained assignment using an inplace method.\n",
      "The behavior will change in pandas 3.0. This inplace method will never work because the intermediate object on which we are setting values always behaves as a copy.\n",
      "\n",
      "For example, when doing 'df[col].method(value, inplace=True)', try using 'df.method({col: value}, inplace=True)' or df[col] = df[col].method(value) instead, to perform the operation inplace on the original object.\n",
      "\n",
      "\n",
      "  books['authors'].fillna('Unknown Author',inplace=True)\n"
     ]
    }
   ],
   "source": [
    "books['authors'].fillna('Unknown Author',inplace=True)"
   ]
  },
  {
   "cell_type": "markdown",
   "id": "901c31dc-373b-421f-955e-3b02269fa773",
   "metadata": {},
   "source": [
    "<h5 style='color:red'>FILLING MISSING VALUES FOR 'categories'</h5>"
   ]
  },
  {
   "cell_type": "code",
   "execution_count": 18,
   "id": "0a4d91c4-0c61-41c1-98d1-c3805c86dde8",
   "metadata": {},
   "outputs": [
    {
     "name": "stderr",
     "output_type": "stream",
     "text": [
      "C:\\Users\\HP\\AppData\\Local\\Temp\\ipykernel_4460\\3614445270.py:1: FutureWarning: A value is trying to be set on a copy of a DataFrame or Series through chained assignment using an inplace method.\n",
      "The behavior will change in pandas 3.0. This inplace method will never work because the intermediate object on which we are setting values always behaves as a copy.\n",
      "\n",
      "For example, when doing 'df[col].method(value, inplace=True)', try using 'df.method({col: value}, inplace=True)' or df[col] = df[col].method(value) instead, to perform the operation inplace on the original object.\n",
      "\n",
      "\n",
      "  books['categories'].fillna('Unknown Category',inplace=True)\n"
     ]
    }
   ],
   "source": [
    "books['categories'].fillna('Unknown Category',inplace=True)"
   ]
  },
  {
   "cell_type": "markdown",
   "id": "1e57c06a-d06f-439e-ad31-448f6d4be96e",
   "metadata": {},
   "source": [
    "<h5 style='color:red'>FILLING MISSING VALUES FOR 'description'</h5>"
   ]
  },
  {
   "cell_type": "code",
   "execution_count": 19,
   "id": "66e31e16-75cf-4674-ba2a-8eddb5d29ce7",
   "metadata": {},
   "outputs": [
    {
     "name": "stderr",
     "output_type": "stream",
     "text": [
      "C:\\Users\\HP\\AppData\\Local\\Temp\\ipykernel_4460\\3008557563.py:1: FutureWarning: A value is trying to be set on a copy of a DataFrame or Series through chained assignment using an inplace method.\n",
      "The behavior will change in pandas 3.0. This inplace method will never work because the intermediate object on which we are setting values always behaves as a copy.\n",
      "\n",
      "For example, when doing 'df[col].method(value, inplace=True)', try using 'df.method({col: value}, inplace=True)' or df[col] = df[col].method(value) instead, to perform the operation inplace on the original object.\n",
      "\n",
      "\n",
      "  books['description'].fillna('No description available',inplace=True)\n"
     ]
    }
   ],
   "source": [
    "books['description'].fillna('No description available',inplace=True)"
   ]
  },
  {
   "cell_type": "code",
   "execution_count": 20,
   "id": "e3478383-4ecb-4e59-8e19-60fbe80a8e5e",
   "metadata": {},
   "outputs": [
    {
     "data": {
      "text/plain": [
       "isbn13         0\n",
       "title          0\n",
       "authors        0\n",
       "categories     0\n",
       "description    0\n",
       "dtype: int64"
      ]
     },
     "execution_count": 20,
     "metadata": {},
     "output_type": "execute_result"
    }
   ],
   "source": [
    "books.isnull().sum()"
   ]
  },
  {
   "cell_type": "markdown",
   "id": "593f62ad-83df-4c75-b2ac-f79fe043519f",
   "metadata": {},
   "source": [
    "<h2 style='color:#FF0D86'>CHECKING FOR DUPLICATED VALUES VALUES</h2>`"
   ]
  },
  {
   "cell_type": "code",
   "execution_count": 21,
   "id": "71900738-d9a9-4320-8d8f-ec0da64c1afe",
   "metadata": {},
   "outputs": [
    {
     "data": {
      "text/plain": [
       "0"
      ]
     },
     "execution_count": 21,
     "metadata": {},
     "output_type": "execute_result"
    }
   ],
   "source": [
    "books.duplicated().sum()"
   ]
  },
  {
   "cell_type": "code",
   "execution_count": 22,
   "id": "f666dd28-ebd2-4626-a00c-c9d02afc22ca",
   "metadata": {},
   "outputs": [
    {
     "data": {
      "text/html": [
       "<div>\n",
       "<style scoped>\n",
       "    .dataframe tbody tr th:only-of-type {\n",
       "        vertical-align: middle;\n",
       "    }\n",
       "\n",
       "    .dataframe tbody tr th {\n",
       "        vertical-align: top;\n",
       "    }\n",
       "\n",
       "    .dataframe thead th {\n",
       "        text-align: right;\n",
       "    }\n",
       "</style>\n",
       "<table border=\"1\" class=\"dataframe\">\n",
       "  <thead>\n",
       "    <tr style=\"text-align: right;\">\n",
       "      <th></th>\n",
       "      <th>isbn13</th>\n",
       "      <th>title</th>\n",
       "      <th>authors</th>\n",
       "      <th>categories</th>\n",
       "      <th>description</th>\n",
       "    </tr>\n",
       "  </thead>\n",
       "  <tbody>\n",
       "    <tr>\n",
       "      <th>0</th>\n",
       "      <td>9780002005883</td>\n",
       "      <td>Gilead</td>\n",
       "      <td>Marilynne Robinson</td>\n",
       "      <td>Fiction</td>\n",
       "      <td>A NOVEL THAT READERS and critics have been eag...</td>\n",
       "    </tr>\n",
       "  </tbody>\n",
       "</table>\n",
       "</div>"
      ],
      "text/plain": [
       "          isbn13   title             authors categories  \\\n",
       "0  9780002005883  Gilead  Marilynne Robinson    Fiction   \n",
       "\n",
       "                                         description  \n",
       "0  A NOVEL THAT READERS and critics have been eag...  "
      ]
     },
     "execution_count": 22,
     "metadata": {},
     "output_type": "execute_result"
    }
   ],
   "source": [
    "books.head(1)"
   ]
  },
  {
   "cell_type": "markdown",
   "id": "a7a4c834-b160-41a0-b623-634f456fc60f",
   "metadata": {},
   "source": [
    "<h2 style='color:#FF0D86'>CONVERTING 'authors' INTO A LIST</h3>"
   ]
  },
  {
   "cell_type": "code",
   "execution_count": 23,
   "id": "e5d0b429-824c-4d3f-ba45-7934277b971b",
   "metadata": {},
   "outputs": [],
   "source": [
    "books['authors']=books['authors'].apply(lambda x: [x])"
   ]
  },
  {
   "cell_type": "code",
   "execution_count": 24,
   "id": "376d7d85-d7ae-4b21-a51f-f56a1a20ba1f",
   "metadata": {},
   "outputs": [
    {
     "data": {
      "text/plain": [
       "['Marilynne Robinson']"
      ]
     },
     "execution_count": 24,
     "metadata": {},
     "output_type": "execute_result"
    }
   ],
   "source": [
    "books.iloc[0].authors"
   ]
  },
  {
   "cell_type": "markdown",
   "id": "587d6468-41c6-4e10-b25a-a6e02df2472f",
   "metadata": {},
   "source": [
    "<h5 style='color:red'>CONVERTING 'categories' INTO A LIST</h4>"
   ]
  },
  {
   "cell_type": "code",
   "execution_count": 25,
   "id": "17fb62c4-5c54-4e8a-8b00-8428140309ed",
   "metadata": {},
   "outputs": [],
   "source": [
    "books['categories']=books['categories'].apply(lambda x: [x])"
   ]
  },
  {
   "cell_type": "code",
   "execution_count": 26,
   "id": "672d5831-0c70-4a4f-97a0-dfb5a631a217",
   "metadata": {},
   "outputs": [
    {
     "data": {
      "text/plain": [
       "['Fiction']"
      ]
     },
     "execution_count": 26,
     "metadata": {},
     "output_type": "execute_result"
    }
   ],
   "source": [
    "books.iloc[0].categories"
   ]
  },
  {
   "cell_type": "code",
   "execution_count": 27,
   "id": "882c056d-82de-4b0a-95e0-bb5da1eb8022",
   "metadata": {},
   "outputs": [
    {
     "data": {
      "text/html": [
       "<div>\n",
       "<style scoped>\n",
       "    .dataframe tbody tr th:only-of-type {\n",
       "        vertical-align: middle;\n",
       "    }\n",
       "\n",
       "    .dataframe tbody tr th {\n",
       "        vertical-align: top;\n",
       "    }\n",
       "\n",
       "    .dataframe thead th {\n",
       "        text-align: right;\n",
       "    }\n",
       "</style>\n",
       "<table border=\"1\" class=\"dataframe\">\n",
       "  <thead>\n",
       "    <tr style=\"text-align: right;\">\n",
       "      <th></th>\n",
       "      <th>isbn13</th>\n",
       "      <th>title</th>\n",
       "      <th>authors</th>\n",
       "      <th>categories</th>\n",
       "      <th>description</th>\n",
       "    </tr>\n",
       "  </thead>\n",
       "  <tbody>\n",
       "    <tr>\n",
       "      <th>0</th>\n",
       "      <td>9780002005883</td>\n",
       "      <td>Gilead</td>\n",
       "      <td>[Marilynne Robinson]</td>\n",
       "      <td>[Fiction]</td>\n",
       "      <td>A NOVEL THAT READERS and critics have been eag...</td>\n",
       "    </tr>\n",
       "  </tbody>\n",
       "</table>\n",
       "</div>"
      ],
      "text/plain": [
       "          isbn13   title               authors categories  \\\n",
       "0  9780002005883  Gilead  [Marilynne Robinson]  [Fiction]   \n",
       "\n",
       "                                         description  \n",
       "0  A NOVEL THAT READERS and critics have been eag...  "
      ]
     },
     "execution_count": 27,
     "metadata": {},
     "output_type": "execute_result"
    }
   ],
   "source": [
    "books.head(1)"
   ]
  },
  {
   "cell_type": "markdown",
   "id": "217f7bdb-7883-416a-9f67-68ac50210e54",
   "metadata": {},
   "source": [
    "<h4 style='color:red'>CONVERTING 'description' INTO A LIST</h4>"
   ]
  },
  {
   "cell_type": "code",
   "execution_count": 28,
   "id": "67d41809-38a2-437f-a2bf-4ac500102df5",
   "metadata": {},
   "outputs": [
    {
     "data": {
      "text/plain": [
       "'A NOVEL THAT READERS and critics have been eagerly anticipating for over a decade, Gilead is an astonishingly imagined story of remarkable lives. John Ames is a preacher, the son of a preacher and the grandson (both maternal and paternal) of preachers. It’s 1956 in Gilead, Iowa, towards the end of the Reverend Ames’s life, and he is absorbed in recording his family’s story, a legacy for the young son he will never see grow up. Haunted by his grandfather’s presence, John tells of the rift between his grandfather and his father: the elder, an angry visionary who fought for the abolitionist cause, and his son, an ardent pacifist. He is troubled, too, by his prodigal namesake, Jack (John Ames) Boughton, his best friend’s lost son who returns to Gilead searching for forgiveness and redemption. Told in John Ames’s joyous, rambling voice that finds beauty, humour and truth in the smallest of life’s details, Gilead is a song of celebration and acceptance of the best and the worst the world has to offer. At its heart is a tale of the sacred bonds between fathers and sons, pitch-perfect in style and story, set to dazzle critics and readers alike.'"
      ]
     },
     "execution_count": 28,
     "metadata": {},
     "output_type": "execute_result"
    }
   ],
   "source": [
    "books.iloc[0].description"
   ]
  },
  {
   "cell_type": "code",
   "execution_count": 29,
   "id": "47d2b890-32d3-442c-8d83-1fd458556d2f",
   "metadata": {},
   "outputs": [],
   "source": [
    "books['description']=books['description'].apply(lambda x: x.split())"
   ]
  },
  {
   "cell_type": "code",
   "execution_count": 30,
   "id": "b52af781-2ae5-451e-8e4e-7cdd3da11c7a",
   "metadata": {},
   "outputs": [
    {
     "data": {
      "text/html": [
       "<div>\n",
       "<style scoped>\n",
       "    .dataframe tbody tr th:only-of-type {\n",
       "        vertical-align: middle;\n",
       "    }\n",
       "\n",
       "    .dataframe tbody tr th {\n",
       "        vertical-align: top;\n",
       "    }\n",
       "\n",
       "    .dataframe thead th {\n",
       "        text-align: right;\n",
       "    }\n",
       "</style>\n",
       "<table border=\"1\" class=\"dataframe\">\n",
       "  <thead>\n",
       "    <tr style=\"text-align: right;\">\n",
       "      <th></th>\n",
       "      <th>isbn13</th>\n",
       "      <th>title</th>\n",
       "      <th>authors</th>\n",
       "      <th>categories</th>\n",
       "      <th>description</th>\n",
       "    </tr>\n",
       "  </thead>\n",
       "  <tbody>\n",
       "    <tr>\n",
       "      <th>0</th>\n",
       "      <td>9780002005883</td>\n",
       "      <td>Gilead</td>\n",
       "      <td>[Marilynne Robinson]</td>\n",
       "      <td>[Fiction]</td>\n",
       "      <td>[A, NOVEL, THAT, READERS, and, critics, have, ...</td>\n",
       "    </tr>\n",
       "    <tr>\n",
       "      <th>1</th>\n",
       "      <td>9780002261982</td>\n",
       "      <td>Spider's Web</td>\n",
       "      <td>[Charles Osborne;Agatha Christie]</td>\n",
       "      <td>[Detective and mystery stories]</td>\n",
       "      <td>[A, new, 'Christie, for, Christmas', --, a, fu...</td>\n",
       "    </tr>\n",
       "  </tbody>\n",
       "</table>\n",
       "</div>"
      ],
      "text/plain": [
       "          isbn13         title                            authors  \\\n",
       "0  9780002005883        Gilead               [Marilynne Robinson]   \n",
       "1  9780002261982  Spider's Web  [Charles Osborne;Agatha Christie]   \n",
       "\n",
       "                        categories  \\\n",
       "0                        [Fiction]   \n",
       "1  [Detective and mystery stories]   \n",
       "\n",
       "                                         description  \n",
       "0  [A, NOVEL, THAT, READERS, and, critics, have, ...  \n",
       "1  [A, new, 'Christie, for, Christmas', --, a, fu...  "
      ]
     },
     "execution_count": 30,
     "metadata": {},
     "output_type": "execute_result"
    }
   ],
   "source": [
    "books.head(2)"
   ]
  },
  {
   "cell_type": "markdown",
   "id": "d3bbd305-ccc9-45dd-a222-cf049f5be60e",
   "metadata": {},
   "source": [
    "<h2 style='color:#FF0D86'>REMOVING SPACES BETWEEN THE WORDS</h3>"
   ]
  },
  {
   "cell_type": "code",
   "execution_count": 40,
   "id": "e92d58ab-e290-4167-9b2b-752513afc78f",
   "metadata": {},
   "outputs": [],
   "source": [
    "books['authors']=books['authors'].apply(lambda x:[i.replace(\" \",\"\") for i in x])\n",
    "books['categories']=books['categories'].apply(lambda x:[i.replace(\" \",\"\") for i in x])\n"
   ]
  },
  {
   "cell_type": "code",
   "execution_count": 41,
   "id": "b45679c4-6e49-4b78-b977-ff3b68a946e1",
   "metadata": {},
   "outputs": [
    {
     "data": {
      "text/html": [
       "<div>\n",
       "<style scoped>\n",
       "    .dataframe tbody tr th:only-of-type {\n",
       "        vertical-align: middle;\n",
       "    }\n",
       "\n",
       "    .dataframe tbody tr th {\n",
       "        vertical-align: top;\n",
       "    }\n",
       "\n",
       "    .dataframe thead th {\n",
       "        text-align: right;\n",
       "    }\n",
       "</style>\n",
       "<table border=\"1\" class=\"dataframe\">\n",
       "  <thead>\n",
       "    <tr style=\"text-align: right;\">\n",
       "      <th></th>\n",
       "      <th>isbn13</th>\n",
       "      <th>title</th>\n",
       "      <th>authors</th>\n",
       "      <th>categories</th>\n",
       "      <th>description</th>\n",
       "      <th>tags</th>\n",
       "    </tr>\n",
       "  </thead>\n",
       "  <tbody>\n",
       "    <tr>\n",
       "      <th>0</th>\n",
       "      <td>9780002005883</td>\n",
       "      <td>Gilead</td>\n",
       "      <td>[MarilynneRobinson]</td>\n",
       "      <td>[Fiction]</td>\n",
       "      <td>[A, NOVEL, THAT, READERS, and, critics, have, ...</td>\n",
       "      <td>[A, NOVEL, THAT, READERS, and, critics, have, ...</td>\n",
       "    </tr>\n",
       "    <tr>\n",
       "      <th>1</th>\n",
       "      <td>9780002261982</td>\n",
       "      <td>Spider's Web</td>\n",
       "      <td>[CharlesOsborne;AgathaChristie]</td>\n",
       "      <td>[Detectiveandmysterystories]</td>\n",
       "      <td>[A, new, 'Christie, for, Christmas', --, a, fu...</td>\n",
       "      <td>[A, new, 'Christie, for, Christmas', --, a, fu...</td>\n",
       "    </tr>\n",
       "    <tr>\n",
       "      <th>2</th>\n",
       "      <td>9780006163831</td>\n",
       "      <td>The One Tree</td>\n",
       "      <td>[StephenR.Donaldson]</td>\n",
       "      <td>[Americanfiction]</td>\n",
       "      <td>[Volume, Two, of, Stephen, Donaldson's, acclai...</td>\n",
       "      <td>[Volume, Two, of, Stephen, Donaldson's, acclai...</td>\n",
       "    </tr>\n",
       "  </tbody>\n",
       "</table>\n",
       "</div>"
      ],
      "text/plain": [
       "          isbn13         title                          authors  \\\n",
       "0  9780002005883        Gilead              [MarilynneRobinson]   \n",
       "1  9780002261982  Spider's Web  [CharlesOsborne;AgathaChristie]   \n",
       "2  9780006163831  The One Tree             [StephenR.Donaldson]   \n",
       "\n",
       "                     categories  \\\n",
       "0                     [Fiction]   \n",
       "1  [Detectiveandmysterystories]   \n",
       "2             [Americanfiction]   \n",
       "\n",
       "                                         description  \\\n",
       "0  [A, NOVEL, THAT, READERS, and, critics, have, ...   \n",
       "1  [A, new, 'Christie, for, Christmas', --, a, fu...   \n",
       "2  [Volume, Two, of, Stephen, Donaldson's, acclai...   \n",
       "\n",
       "                                                tags  \n",
       "0  [A, NOVEL, THAT, READERS, and, critics, have, ...  \n",
       "1  [A, new, 'Christie, for, Christmas', --, a, fu...  \n",
       "2  [Volume, Two, of, Stephen, Donaldson's, acclai...  "
      ]
     },
     "execution_count": 41,
     "metadata": {},
     "output_type": "execute_result"
    }
   ],
   "source": [
    "books.head(3)"
   ]
  },
  {
   "cell_type": "markdown",
   "id": "8a5913a4-ee27-4109-882b-42d64c3627e2",
   "metadata": {},
   "source": [
    "<h2 style='color:#FF0D86'>CONCATENATING ALL THE LISTS</h3>"
   ]
  },
  {
   "cell_type": "code",
   "execution_count": 42,
   "id": "00a3d354-a7dc-4b8d-802f-d676f84ec184",
   "metadata": {},
   "outputs": [],
   "source": [
    "books['tags']=books['description'] + books['categories'] + books['authors']"
   ]
  },
  {
   "cell_type": "code",
   "execution_count": 43,
   "id": "0b9fd140-32fc-44a0-bf9f-19e4de1d8182",
   "metadata": {},
   "outputs": [
    {
     "data": {
      "text/html": [
       "<div>\n",
       "<style scoped>\n",
       "    .dataframe tbody tr th:only-of-type {\n",
       "        vertical-align: middle;\n",
       "    }\n",
       "\n",
       "    .dataframe tbody tr th {\n",
       "        vertical-align: top;\n",
       "    }\n",
       "\n",
       "    .dataframe thead th {\n",
       "        text-align: right;\n",
       "    }\n",
       "</style>\n",
       "<table border=\"1\" class=\"dataframe\">\n",
       "  <thead>\n",
       "    <tr style=\"text-align: right;\">\n",
       "      <th></th>\n",
       "      <th>isbn13</th>\n",
       "      <th>title</th>\n",
       "      <th>authors</th>\n",
       "      <th>categories</th>\n",
       "      <th>description</th>\n",
       "      <th>tags</th>\n",
       "    </tr>\n",
       "  </thead>\n",
       "  <tbody>\n",
       "    <tr>\n",
       "      <th>0</th>\n",
       "      <td>9780002005883</td>\n",
       "      <td>Gilead</td>\n",
       "      <td>[MarilynneRobinson]</td>\n",
       "      <td>[Fiction]</td>\n",
       "      <td>[A, NOVEL, THAT, READERS, and, critics, have, ...</td>\n",
       "      <td>[A, NOVEL, THAT, READERS, and, critics, have, ...</td>\n",
       "    </tr>\n",
       "    <tr>\n",
       "      <th>1</th>\n",
       "      <td>9780002261982</td>\n",
       "      <td>Spider's Web</td>\n",
       "      <td>[CharlesOsborne;AgathaChristie]</td>\n",
       "      <td>[Detectiveandmysterystories]</td>\n",
       "      <td>[A, new, 'Christie, for, Christmas', --, a, fu...</td>\n",
       "      <td>[A, new, 'Christie, for, Christmas', --, a, fu...</td>\n",
       "    </tr>\n",
       "  </tbody>\n",
       "</table>\n",
       "</div>"
      ],
      "text/plain": [
       "          isbn13         title                          authors  \\\n",
       "0  9780002005883        Gilead              [MarilynneRobinson]   \n",
       "1  9780002261982  Spider's Web  [CharlesOsborne;AgathaChristie]   \n",
       "\n",
       "                     categories  \\\n",
       "0                     [Fiction]   \n",
       "1  [Detectiveandmysterystories]   \n",
       "\n",
       "                                         description  \\\n",
       "0  [A, NOVEL, THAT, READERS, and, critics, have, ...   \n",
       "1  [A, new, 'Christie, for, Christmas', --, a, fu...   \n",
       "\n",
       "                                                tags  \n",
       "0  [A, NOVEL, THAT, READERS, and, critics, have, ...  \n",
       "1  [A, new, 'Christie, for, Christmas', --, a, fu...  "
      ]
     },
     "execution_count": 43,
     "metadata": {},
     "output_type": "execute_result"
    }
   ],
   "source": [
    "books.head(2)"
   ]
  },
  {
   "cell_type": "code",
   "execution_count": 44,
   "id": "a4003278-dc5c-489a-910b-2923048f73f9",
   "metadata": {},
   "outputs": [],
   "source": [
    "#books['tags'][0]"
   ]
  },
  {
   "cell_type": "markdown",
   "id": "5a54992c-7a30-455a-b57a-1b053ff08ff2",
   "metadata": {},
   "source": [
    "<h2 style='color:#FF0D86'>MAKING A NEW DATAFRAME</h3>"
   ]
  },
  {
   "cell_type": "code",
   "execution_count": 45,
   "id": "1fa17071-83d4-41bc-bccc-d15c951c7c5b",
   "metadata": {},
   "outputs": [
    {
     "data": {
      "text/html": [
       "<div>\n",
       "<style scoped>\n",
       "    .dataframe tbody tr th:only-of-type {\n",
       "        vertical-align: middle;\n",
       "    }\n",
       "\n",
       "    .dataframe tbody tr th {\n",
       "        vertical-align: top;\n",
       "    }\n",
       "\n",
       "    .dataframe thead th {\n",
       "        text-align: right;\n",
       "    }\n",
       "</style>\n",
       "<table border=\"1\" class=\"dataframe\">\n",
       "  <thead>\n",
       "    <tr style=\"text-align: right;\">\n",
       "      <th></th>\n",
       "      <th>isbn13</th>\n",
       "      <th>title</th>\n",
       "      <th>tags</th>\n",
       "    </tr>\n",
       "  </thead>\n",
       "  <tbody>\n",
       "    <tr>\n",
       "      <th>0</th>\n",
       "      <td>9780002005883</td>\n",
       "      <td>Gilead</td>\n",
       "      <td>[A, NOVEL, THAT, READERS, and, critics, have, ...</td>\n",
       "    </tr>\n",
       "    <tr>\n",
       "      <th>1</th>\n",
       "      <td>9780002261982</td>\n",
       "      <td>Spider's Web</td>\n",
       "      <td>[A, new, 'Christie, for, Christmas', --, a, fu...</td>\n",
       "    </tr>\n",
       "    <tr>\n",
       "      <th>2</th>\n",
       "      <td>9780006163831</td>\n",
       "      <td>The One Tree</td>\n",
       "      <td>[Volume, Two, of, Stephen, Donaldson's, acclai...</td>\n",
       "    </tr>\n",
       "    <tr>\n",
       "      <th>3</th>\n",
       "      <td>9780006178736</td>\n",
       "      <td>Rage of angels</td>\n",
       "      <td>[A, memorable,, mesmerizing, heroine, Jennifer...</td>\n",
       "    </tr>\n",
       "    <tr>\n",
       "      <th>4</th>\n",
       "      <td>9780006280897</td>\n",
       "      <td>The Four Loves</td>\n",
       "      <td>[Lewis', work, on, the, nature, of, love, divi...</td>\n",
       "    </tr>\n",
       "    <tr>\n",
       "      <th>...</th>\n",
       "      <td>...</td>\n",
       "      <td>...</td>\n",
       "      <td>...</td>\n",
       "    </tr>\n",
       "    <tr>\n",
       "      <th>6805</th>\n",
       "      <td>9788185300535</td>\n",
       "      <td>I Am that</td>\n",
       "      <td>[This, collection, of, the, timeless, teaching...</td>\n",
       "    </tr>\n",
       "    <tr>\n",
       "      <th>6806</th>\n",
       "      <td>9788185944609</td>\n",
       "      <td>Secrets Of The Heart</td>\n",
       "      <td>[No, description, available, Mysticism, Khalil...</td>\n",
       "    </tr>\n",
       "    <tr>\n",
       "      <th>6807</th>\n",
       "      <td>9788445074879</td>\n",
       "      <td>Fahrenheit 451</td>\n",
       "      <td>[No, description, available, Bookburning, RayB...</td>\n",
       "    </tr>\n",
       "    <tr>\n",
       "      <th>6808</th>\n",
       "      <td>9789027712059</td>\n",
       "      <td>The Berlin Phenomenology</td>\n",
       "      <td>[Since, the, three, volume, edition, ofHegel's...</td>\n",
       "    </tr>\n",
       "    <tr>\n",
       "      <th>6809</th>\n",
       "      <td>9789042003408</td>\n",
       "      <td>'I'm Telling You Stories'</td>\n",
       "      <td>[This, is, a, jubilant, and, rewarding, collec...</td>\n",
       "    </tr>\n",
       "  </tbody>\n",
       "</table>\n",
       "<p>6810 rows × 3 columns</p>\n",
       "</div>"
      ],
      "text/plain": [
       "             isbn13                      title  \\\n",
       "0     9780002005883                     Gilead   \n",
       "1     9780002261982               Spider's Web   \n",
       "2     9780006163831               The One Tree   \n",
       "3     9780006178736             Rage of angels   \n",
       "4     9780006280897             The Four Loves   \n",
       "...             ...                        ...   \n",
       "6805  9788185300535                  I Am that   \n",
       "6806  9788185944609       Secrets Of The Heart   \n",
       "6807  9788445074879             Fahrenheit 451   \n",
       "6808  9789027712059   The Berlin Phenomenology   \n",
       "6809  9789042003408  'I'm Telling You Stories'   \n",
       "\n",
       "                                                   tags  \n",
       "0     [A, NOVEL, THAT, READERS, and, critics, have, ...  \n",
       "1     [A, new, 'Christie, for, Christmas', --, a, fu...  \n",
       "2     [Volume, Two, of, Stephen, Donaldson's, acclai...  \n",
       "3     [A, memorable,, mesmerizing, heroine, Jennifer...  \n",
       "4     [Lewis', work, on, the, nature, of, love, divi...  \n",
       "...                                                 ...  \n",
       "6805  [This, collection, of, the, timeless, teaching...  \n",
       "6806  [No, description, available, Mysticism, Khalil...  \n",
       "6807  [No, description, available, Bookburning, RayB...  \n",
       "6808  [Since, the, three, volume, edition, ofHegel's...  \n",
       "6809  [This, is, a, jubilant, and, rewarding, collec...  \n",
       "\n",
       "[6810 rows x 3 columns]"
      ]
     },
     "execution_count": 45,
     "metadata": {},
     "output_type": "execute_result"
    }
   ],
   "source": [
    "new_df=books[['isbn13','title','tags']]\n",
    "new_df"
   ]
  },
  {
   "cell_type": "markdown",
   "id": "2db3bbc0-9db2-4f43-a4ce-b71852bade2b",
   "metadata": {},
   "source": [
    "<h2 style='color:#FF0D86'>CONVERTING THE LIST INTO STRING</h3>"
   ]
  },
  {
   "cell_type": "code",
   "execution_count": 46,
   "id": "b14f13bf-74ae-4f33-bded-95f6c70e21cd",
   "metadata": {},
   "outputs": [],
   "source": [
    "new_df.loc[:,'tags'] = new_df['tags'].apply(lambda x: \" \".join(x))"
   ]
  },
  {
   "cell_type": "code",
   "execution_count": 47,
   "id": "49b6535e-e973-4cf5-b443-1a19bac685a0",
   "metadata": {},
   "outputs": [
    {
     "data": {
      "text/html": [
       "<div>\n",
       "<style scoped>\n",
       "    .dataframe tbody tr th:only-of-type {\n",
       "        vertical-align: middle;\n",
       "    }\n",
       "\n",
       "    .dataframe tbody tr th {\n",
       "        vertical-align: top;\n",
       "    }\n",
       "\n",
       "    .dataframe thead th {\n",
       "        text-align: right;\n",
       "    }\n",
       "</style>\n",
       "<table border=\"1\" class=\"dataframe\">\n",
       "  <thead>\n",
       "    <tr style=\"text-align: right;\">\n",
       "      <th></th>\n",
       "      <th>isbn13</th>\n",
       "      <th>title</th>\n",
       "      <th>tags</th>\n",
       "    </tr>\n",
       "  </thead>\n",
       "  <tbody>\n",
       "    <tr>\n",
       "      <th>0</th>\n",
       "      <td>9780002005883</td>\n",
       "      <td>Gilead</td>\n",
       "      <td>A NOVEL THAT READERS and critics have been eag...</td>\n",
       "    </tr>\n",
       "    <tr>\n",
       "      <th>1</th>\n",
       "      <td>9780002261982</td>\n",
       "      <td>Spider's Web</td>\n",
       "      <td>A new 'Christie for Christmas' -- a full-lengt...</td>\n",
       "    </tr>\n",
       "  </tbody>\n",
       "</table>\n",
       "</div>"
      ],
      "text/plain": [
       "          isbn13         title  \\\n",
       "0  9780002005883        Gilead   \n",
       "1  9780002261982  Spider's Web   \n",
       "\n",
       "                                                tags  \n",
       "0  A NOVEL THAT READERS and critics have been eag...  \n",
       "1  A new 'Christie for Christmas' -- a full-lengt...  "
      ]
     },
     "execution_count": 47,
     "metadata": {},
     "output_type": "execute_result"
    }
   ],
   "source": [
    "new_df.head(2)"
   ]
  },
  {
   "cell_type": "code",
   "execution_count": 48,
   "id": "46802c0e-c8ec-4f8b-a0df-901c53126eff",
   "metadata": {},
   "outputs": [
    {
     "data": {
      "text/plain": [
       "'A NOVEL THAT READERS and critics have been eagerly anticipating for over a decade, Gilead is an astonishingly imagined story of remarkable lives. John Ames is a preacher, the son of a preacher and the grandson (both maternal and paternal) of preachers. It’s 1956 in Gilead, Iowa, towards the end of the Reverend Ames’s life, and he is absorbed in recording his family’s story, a legacy for the young son he will never see grow up. Haunted by his grandfather’s presence, John tells of the rift between his grandfather and his father: the elder, an angry visionary who fought for the abolitionist cause, and his son, an ardent pacifist. He is troubled, too, by his prodigal namesake, Jack (John Ames) Boughton, his best friend’s lost son who returns to Gilead searching for forgiveness and redemption. Told in John Ames’s joyous, rambling voice that finds beauty, humour and truth in the smallest of life’s details, Gilead is a song of celebration and acceptance of the best and the worst the world has to offer. At its heart is a tale of the sacred bonds between fathers and sons, pitch-perfect in style and story, set to dazzle critics and readers alike. Fiction MarilynneRobinson'"
      ]
     },
     "execution_count": 48,
     "metadata": {},
     "output_type": "execute_result"
    }
   ],
   "source": [
    "new_df['tags'][0]"
   ]
  },
  {
   "cell_type": "markdown",
   "id": "fd2b0f3d-513e-49f8-851c-c02398b81310",
   "metadata": {},
   "source": [
    "<h2 style='color:#FF0D86'>CONVERTING THE STRING INTO LOWERCASE</h3>"
   ]
  },
  {
   "cell_type": "code",
   "execution_count": 49,
   "id": "2df07d25-852a-442f-80d5-7767349ce560",
   "metadata": {},
   "outputs": [],
   "source": [
    "new_df.loc[:,'tags']=new_df['tags'].apply(lambda x:x.lower())"
   ]
  },
  {
   "cell_type": "code",
   "execution_count": 50,
   "id": "20cf3576-1c41-459e-95fd-ed682304df97",
   "metadata": {},
   "outputs": [
    {
     "data": {
      "text/plain": [
       "'a novel that readers and critics have been eagerly anticipating for over a decade, gilead is an astonishingly imagined story of remarkable lives. john ames is a preacher, the son of a preacher and the grandson (both maternal and paternal) of preachers. it’s 1956 in gilead, iowa, towards the end of the reverend ames’s life, and he is absorbed in recording his family’s story, a legacy for the young son he will never see grow up. haunted by his grandfather’s presence, john tells of the rift between his grandfather and his father: the elder, an angry visionary who fought for the abolitionist cause, and his son, an ardent pacifist. he is troubled, too, by his prodigal namesake, jack (john ames) boughton, his best friend’s lost son who returns to gilead searching for forgiveness and redemption. told in john ames’s joyous, rambling voice that finds beauty, humour and truth in the smallest of life’s details, gilead is a song of celebration and acceptance of the best and the worst the world has to offer. at its heart is a tale of the sacred bonds between fathers and sons, pitch-perfect in style and story, set to dazzle critics and readers alike. fiction marilynnerobinson'"
      ]
     },
     "execution_count": 50,
     "metadata": {},
     "output_type": "execute_result"
    }
   ],
   "source": [
    "new_df['tags'][0]"
   ]
  },
  {
   "cell_type": "markdown",
   "id": "9b239000-d2c2-49b8-ae9f-0dc60ac19b01",
   "metadata": {},
   "source": [
    "<h1>TEXT VECTORIZATION</h1>"
   ]
  },
  {
   "cell_type": "code",
   "execution_count": 51,
   "id": "2526b805-69ce-40b5-b934-f10f66e2a869",
   "metadata": {},
   "outputs": [],
   "source": [
    "from sklearn.feature_extraction.text import CountVectorizer\n",
    "cv=CountVectorizer(max_features=5000,stop_words='english')"
   ]
  },
  {
   "cell_type": "code",
   "execution_count": 52,
   "id": "6d05033a-426c-4a24-a71d-daa6e555a58c",
   "metadata": {},
   "outputs": [
    {
     "data": {
      "text/plain": [
       "<6810x5000 sparse matrix of type '<class 'numpy.int64'>'\n",
       "\twith 172513 stored elements in Compressed Sparse Row format>"
      ]
     },
     "execution_count": 52,
     "metadata": {},
     "output_type": "execute_result"
    }
   ],
   "source": [
    "cv.fit_transform(new_df['tags'])"
   ]
  },
  {
   "cell_type": "markdown",
   "id": "b0c4b2df-6099-4a92-a144-099fe8e2bc88",
   "metadata": {},
   "source": [
    "<h2 style='color:#FF0D86'>CONVERTING SPARSE MATRIX INTO A NUMPY ARRAY</h3>"
   ]
  },
  {
   "cell_type": "code",
   "execution_count": 53,
   "id": "f79b396a-a305-4dd9-bc7b-9f98d08b2e83",
   "metadata": {},
   "outputs": [
    {
     "data": {
      "text/plain": [
       "array([[0, 0, 0, ..., 0, 0, 0],\n",
       "       [0, 0, 0, ..., 0, 0, 0],\n",
       "       [0, 0, 0, ..., 0, 0, 0],\n",
       "       ...,\n",
       "       [0, 0, 0, ..., 0, 0, 0],\n",
       "       [0, 0, 0, ..., 0, 0, 0],\n",
       "       [0, 0, 0, ..., 0, 0, 0]], dtype=int64)"
      ]
     },
     "execution_count": 53,
     "metadata": {},
     "output_type": "execute_result"
    }
   ],
   "source": [
    "cv.fit_transform(new_df['tags']).toarray()"
   ]
  },
  {
   "cell_type": "code",
   "execution_count": 54,
   "id": "95082dd3-b411-487e-bb22-4df44a4582fb",
   "metadata": {},
   "outputs": [
    {
     "data": {
      "text/plain": [
       "(6810, 5000)"
      ]
     },
     "execution_count": 54,
     "metadata": {},
     "output_type": "execute_result"
    }
   ],
   "source": [
    "cv.fit_transform(new_df['tags']).toarray().shape\n",
    "# Books * number of common words"
   ]
  },
  {
   "cell_type": "code",
   "execution_count": 55,
   "id": "e3a41148-6760-4c4a-9a13-ba8ebfb3f19a",
   "metadata": {},
   "outputs": [],
   "source": [
    "vectors=cv.fit_transform(new_df['tags']).toarray()"
   ]
  },
  {
   "cell_type": "markdown",
   "id": "73e81860-7e85-43b0-8f82-ab1afcc36ccb",
   "metadata": {},
   "source": [
    "<h2 style='color:#FF0D86'>CHECKING THE MOST COMMON WORDS</h3>"
   ]
  },
  {
   "cell_type": "code",
   "execution_count": 56,
   "id": "2cbf7ef3-bef8-421b-be32-73ff8cd8cf6d",
   "metadata": {},
   "outputs": [
    {
     "data": {
      "text/plain": [
       "array(['000', '10', '100', ..., 'zizek', 'zombies', 'zone'], dtype=object)"
      ]
     },
     "execution_count": 56,
     "metadata": {},
     "output_type": "execute_result"
    }
   ],
   "source": [
    "cv.get_feature_names_out()"
   ]
  },
  {
   "cell_type": "markdown",
   "id": "a897736c-6771-4834-96c0-dddb3a29c435",
   "metadata": {},
   "source": [
    "<h1>STEMMING</h1>"
   ]
  },
  {
   "cell_type": "code",
   "execution_count": 57,
   "id": "5299b244-07f5-4292-872e-2a9358d4499a",
   "metadata": {},
   "outputs": [],
   "source": [
    "import nltk\n",
    "\n",
    "from nltk.stem.porter import PorterStemmer\n",
    "ps=PorterStemmer()"
   ]
  },
  {
   "cell_type": "code",
   "execution_count": 58,
   "id": "299146d3-63d3-4ad5-ae81-43d29f89572f",
   "metadata": {},
   "outputs": [],
   "source": [
    "def stem(text):\n",
    "    y=[]\n",
    "\n",
    "    for i in text.split():\n",
    "        y.append(ps.stem(i))\n",
    "\n",
    "    return \" \".join(y)"
   ]
  },
  {
   "cell_type": "code",
   "execution_count": 59,
   "id": "b1103ecd-4ed6-410f-8465-b918f5f1326e",
   "metadata": {},
   "outputs": [
    {
     "name": "stderr",
     "output_type": "stream",
     "text": [
      "C:\\Users\\HP\\AppData\\Local\\Temp\\ipykernel_4460\\3514595201.py:1: SettingWithCopyWarning: \n",
      "A value is trying to be set on a copy of a slice from a DataFrame.\n",
      "Try using .loc[row_indexer,col_indexer] = value instead\n",
      "\n",
      "See the caveats in the documentation: https://pandas.pydata.org/pandas-docs/stable/user_guide/indexing.html#returning-a-view-versus-a-copy\n",
      "  new_df['tags']=new_df['tags'].apply(stem)\n"
     ]
    }
   ],
   "source": [
    "new_df['tags']=new_df['tags'].apply(stem)"
   ]
  },
  {
   "cell_type": "markdown",
   "id": "e48d0987-7036-4823-8285-d7cf9c7ed2a8",
   "metadata": {},
   "source": [
    "<h4>REPEATING THE STEPS</h4>"
   ]
  },
  {
   "cell_type": "code",
   "execution_count": 60,
   "id": "af6158f5-1971-4fa9-9703-fb2173c02087",
   "metadata": {},
   "outputs": [],
   "source": [
    "from sklearn.feature_extraction.text import CountVectorizer\n",
    "cv=CountVectorizer(max_features=5000,stop_words='english')"
   ]
  },
  {
   "cell_type": "code",
   "execution_count": 61,
   "id": "593c33b4-3877-4f86-acfa-1b5dbc7e7c18",
   "metadata": {},
   "outputs": [],
   "source": [
    "vectors=cv.fit_transform(new_df['tags']).toarray()"
   ]
  },
  {
   "cell_type": "code",
   "execution_count": 62,
   "id": "9c6270aa-5b61-41d3-8aec-e23b684ffcd3",
   "metadata": {},
   "outputs": [
    {
     "data": {
      "text/plain": [
       "array(['000', '10', '100', ..., 'zero', 'zizek', 'zone'], dtype=object)"
      ]
     },
     "execution_count": 62,
     "metadata": {},
     "output_type": "execute_result"
    }
   ],
   "source": [
    "cv.get_feature_names_out()"
   ]
  },
  {
   "cell_type": "markdown",
   "id": "99073946-3612-4459-a825-700c85b2280a",
   "metadata": {},
   "source": [
    "<h2 style='color:#FF0D86'>FINDING THE DISTANCE BETWEEN MOVIES</h3>"
   ]
  },
  {
   "cell_type": "code",
   "execution_count": 63,
   "id": "f2a5ad87-3ebd-4fb7-a37d-4d386be472d3",
   "metadata": {},
   "outputs": [],
   "source": [
    "from sklearn.metrics.pairwise import cosine_similarity\n",
    "similarity=cosine_similarity(vectors)"
   ]
  },
  {
   "cell_type": "code",
   "execution_count": 64,
   "id": "31e809e3-233a-4fd5-88c3-9c783046ea90",
   "metadata": {},
   "outputs": [
    {
     "data": {
      "text/plain": [
       "array([[1.        , 0.0265046 , 0.        , ..., 0.        , 0.07877264,\n",
       "        0.        ],\n",
       "       [0.0265046 , 1.        , 0.02495326, ..., 0.        , 0.07402332,\n",
       "        0.02495326],\n",
       "       [0.        , 0.02495326, 1.        , ..., 0.        , 0.02696799,\n",
       "        0.        ],\n",
       "       ...,\n",
       "       [0.        , 0.        , 0.        , ..., 1.        , 0.        ,\n",
       "        0.        ],\n",
       "       [0.07877264, 0.07402332, 0.02696799, ..., 0.        , 1.        ,\n",
       "        0.        ],\n",
       "       [0.        , 0.02495326, 0.        , ..., 0.        , 0.        ,\n",
       "        1.        ]])"
      ]
     },
     "execution_count": 64,
     "metadata": {},
     "output_type": "execute_result"
    }
   ],
   "source": [
    "similarity"
   ]
  },
  {
   "cell_type": "markdown",
   "id": "42f6bc41-12a6-4061-ac96-d9baad7f7295",
   "metadata": {},
   "source": [
    "<h2 style='color:#FF0D86'>CREATING THE FUNCTION WHICH RECOMMENDS MOVIES</h3>"
   ]
  },
  {
   "cell_type": "code",
   "execution_count": 65,
   "id": "2b29be9f-d922-485b-bddb-18759919a351",
   "metadata": {},
   "outputs": [
    {
     "data": {
      "text/html": [
       "<div>\n",
       "<style scoped>\n",
       "    .dataframe tbody tr th:only-of-type {\n",
       "        vertical-align: middle;\n",
       "    }\n",
       "\n",
       "    .dataframe tbody tr th {\n",
       "        vertical-align: top;\n",
       "    }\n",
       "\n",
       "    .dataframe thead th {\n",
       "        text-align: right;\n",
       "    }\n",
       "</style>\n",
       "<table border=\"1\" class=\"dataframe\">\n",
       "  <thead>\n",
       "    <tr style=\"text-align: right;\">\n",
       "      <th></th>\n",
       "      <th>isbn13</th>\n",
       "      <th>title</th>\n",
       "      <th>tags</th>\n",
       "    </tr>\n",
       "  </thead>\n",
       "  <tbody>\n",
       "    <tr>\n",
       "      <th>0</th>\n",
       "      <td>9780002005883</td>\n",
       "      <td>Gilead</td>\n",
       "      <td>a novel that reader and critic have been eager...</td>\n",
       "    </tr>\n",
       "  </tbody>\n",
       "</table>\n",
       "</div>"
      ],
      "text/plain": [
       "          isbn13   title                                               tags\n",
       "0  9780002005883  Gilead  a novel that reader and critic have been eager..."
      ]
     },
     "execution_count": 65,
     "metadata": {},
     "output_type": "execute_result"
    }
   ],
   "source": [
    "new_df[new_df['title'] == 'Gilead']"
   ]
  },
  {
   "cell_type": "code",
   "execution_count": 66,
   "id": "345517be-c2a6-444b-93a9-f1cdfb0520b4",
   "metadata": {},
   "outputs": [
    {
     "data": {
      "text/plain": [
       "Index([3], dtype='int64')"
      ]
     },
     "execution_count": 66,
     "metadata": {},
     "output_type": "execute_result"
    }
   ],
   "source": [
    "new_df[new_df['title'] == 'Rage of angels'].index"
   ]
  },
  {
   "cell_type": "code",
   "execution_count": 67,
   "id": "15fe7770-404a-4795-b362-f1f178670edb",
   "metadata": {},
   "outputs": [
    {
     "data": {
      "text/plain": [
       "3"
      ]
     },
     "execution_count": 67,
     "metadata": {},
     "output_type": "execute_result"
    }
   ],
   "source": [
    "new_df[new_df['title'] == 'Rage of angels'].index[0]"
   ]
  },
  {
   "cell_type": "code",
   "execution_count": 68,
   "id": "96ee6a61-47ee-4779-be4b-b5b1eb4fbf04",
   "metadata": {},
   "outputs": [
    {
     "data": {
      "text/plain": [
       "array([1.        , 0.0265046 , 0.        , ..., 0.        , 0.07877264,\n",
       "       0.        ])"
      ]
     },
     "execution_count": 68,
     "metadata": {},
     "output_type": "execute_result"
    }
   ],
   "source": [
    "similarity[0]"
   ]
  },
  {
   "cell_type": "code",
   "execution_count": 69,
   "id": "21f02c7a-b619-4338-822e-1133a19e5054",
   "metadata": {},
   "outputs": [
    {
     "data": {
      "text/plain": [
       "<enumerate at 0x23c10c25030>"
      ]
     },
     "execution_count": 69,
     "metadata": {},
     "output_type": "execute_result"
    }
   ],
   "source": [
    "enumerate(similarity[0])"
   ]
  },
  {
   "cell_type": "code",
   "execution_count": 71,
   "id": "13cf2840-ab09-4e72-b9c8-a9e0f7057db7",
   "metadata": {},
   "outputs": [],
   "source": [
    "#list(enumerate(similarity[0]))"
   ]
  },
  {
   "cell_type": "code",
   "execution_count": 2,
   "id": "c3509c72-39e1-4dd7-93cd-691a72042612",
   "metadata": {},
   "outputs": [],
   "source": [
    "#sorted(list(enumerate(similarity[0])),reverse=True)"
   ]
  },
  {
   "cell_type": "code",
   "execution_count": 73,
   "id": "a974acb9-d294-4863-9867-db463fac56dd",
   "metadata": {},
   "outputs": [],
   "source": [
    "#sorted(list(enumerate(similarity[0])),reverse=True,key=lambda x: x[1])"
   ]
  },
  {
   "cell_type": "code",
   "execution_count": 77,
   "id": "6aed78e8-4cd5-432f-b7c0-960bc1c0001c",
   "metadata": {},
   "outputs": [
    {
     "data": {
      "text/plain": [
       "[(4329, 0.5352309301050474),\n",
       " (4774, 0.5177201831435471),\n",
       " (2101, 0.49372847423235194),\n",
       " (6167, 0.4935481167928245),\n",
       " (1829, 0.4885271508527603)]"
      ]
     },
     "execution_count": 77,
     "metadata": {},
     "output_type": "execute_result"
    }
   ],
   "source": [
    "sorted(list(enumerate(similarity[0])),reverse=True,key=lambda x: x[1])[1:6]"
   ]
  },
  {
   "cell_type": "markdown",
   "id": "cb22f8b3-cf23-4d5d-8ce1-91ff4d0fa8af",
   "metadata": {},
   "source": [
    "<h2 style='color:#FF0D86'>CREATING THE FUNCTION WHICH RECOMMENDS MOVIES</h3>"
   ]
  },
  {
   "cell_type": "code",
   "execution_count": 80,
   "id": "75081c48-d2c6-40f0-bd31-a65e40b07204",
   "metadata": {},
   "outputs": [],
   "source": [
    "def recommend(book):\n",
    "    book_index=new_df[new_df['title'] == book].index[0]\n",
    "    distances=similarity[book_index]\n",
    "    book_list=sorted(list(enumerate(similarity[0])),reverse=True,key=lambda x: x[1])[1:6]\n",
    "\n",
    "    for i in book_list:\n",
    "        print(i[0])"
   ]
  },
  {
   "cell_type": "code",
   "execution_count": 84,
   "id": "3c937982-0c30-4e9d-b553-5f8dcb1819c0",
   "metadata": {},
   "outputs": [
    {
     "name": "stdout",
     "output_type": "stream",
     "text": [
      "4329\n",
      "4774\n",
      "2101\n",
      "6167\n",
      "1829\n"
     ]
    }
   ],
   "source": [
    "recommend(\"Spider's Web\")"
   ]
  },
  {
   "cell_type": "markdown",
   "id": "03b80a94-42b3-4130-859c-142993e52dc2",
   "metadata": {},
   "source": [
    "<h2 style='color:#FF0D86'>TO GET THE BOOK NAMES</h3>"
   ]
  },
  {
   "cell_type": "code",
   "execution_count": 94,
   "id": "6fe7f466-e53d-44d0-8651-57d7edff2102",
   "metadata": {},
   "outputs": [],
   "source": [
    "def recommend(book):\n",
    "    book_index=new_df[new_df['title'] == book].index[0]\n",
    "    distances=similarity[book_index]\n",
    "    book_list=sorted(list(enumerate(distances)),reverse=True,key=lambda x: x[1])[1:6]\n",
    "\n",
    "    for i in book_list:\n",
    "        print(new_df.iloc[i[0]].title)"
   ]
  },
  {
   "cell_type": "code",
   "execution_count": 95,
   "id": "acb98370-cb30-4027-9d43-5effe365d16e",
   "metadata": {},
   "outputs": [
    {
     "name": "stdout",
     "output_type": "stream",
     "text": [
      "Witness for the Prosecution & Selected Plays\n",
      "Purple Cane Road\n",
      "The Murder of Roger Ackroyd\n",
      "Poirot\n",
      "The Real Thing\n"
     ]
    }
   ],
   "source": [
    "recommend(\"Spider's Web\")"
   ]
  },
  {
   "cell_type": "code",
   "execution_count": 96,
   "id": "880c5426-67fc-40ce-b7d7-9c9e2648d805",
   "metadata": {},
   "outputs": [
    {
     "name": "stdout",
     "output_type": "stream",
     "text": [
      "Independent People\n",
      "Beach Music\n",
      "Dreams from My Father\n",
      "Speak, Memory\n",
      "Man and Wife\n"
     ]
    }
   ],
   "source": [
    "recommend('Not Without My Daughter')"
   ]
  },
  {
   "cell_type": "code",
   "execution_count": 97,
   "id": "2fd5e540-63b4-4d41-aea2-c194c666d273",
   "metadata": {},
   "outputs": [
    {
     "name": "stdout",
     "output_type": "stream",
     "text": [
      "The Lord of the Rings\n",
      "The Return of the King\n",
      "The Fellowship of the Ring\n",
      "The ring sets out\n",
      "The Return of the King\n"
     ]
    }
   ],
   "source": [
    "recommend('The Lord of the Rings')"
   ]
  },
  {
   "cell_type": "code",
   "execution_count": 98,
   "id": "4802453a-7519-4797-a849-00048d067a2a",
   "metadata": {},
   "outputs": [
    {
     "name": "stdout",
     "output_type": "stream",
     "text": [
      "The Namesake\n",
      "The Hotel New Hampshire\n",
      "The Blackwater Lightship\n",
      "Human Croquet\n",
      "The Thorn Birds\n"
     ]
    }
   ],
   "source": [
    "recommend('The God of Small Things')"
   ]
  },
  {
   "cell_type": "code",
   "execution_count": null,
   "id": "54a78b9c-6fba-4998-9660-dcaf9e797bf5",
   "metadata": {},
   "outputs": [],
   "source": []
  }
 ],
 "metadata": {
  "kernelspec": {
   "display_name": "Python 3 (ipykernel)",
   "language": "python",
   "name": "python3"
  },
  "language_info": {
   "codemirror_mode": {
    "name": "ipython",
    "version": 3
   },
   "file_extension": ".py",
   "mimetype": "text/x-python",
   "name": "python",
   "nbconvert_exporter": "python",
   "pygments_lexer": "ipython3",
   "version": "3.12.4"
  }
 },
 "nbformat": 4,
 "nbformat_minor": 5
}
